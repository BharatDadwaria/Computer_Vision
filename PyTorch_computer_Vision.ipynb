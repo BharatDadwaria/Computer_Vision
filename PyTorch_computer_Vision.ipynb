{
 "cells": [
  {
   "cell_type": "markdown",
   "id": "21c5de8d",
   "metadata": {},
   "source": [
    "# Pytorch for computer vision"
   ]
  },
  {
   "cell_type": "code",
   "execution_count": 3,
   "id": "5feff584",
   "metadata": {},
   "outputs": [],
   "source": [
    "import numpy as np\n",
    "import pandas as pd\n",
    "import matplotlib.pyplot as plt\n",
    "import seaborn as sns"
   ]
  },
  {
   "cell_type": "code",
   "execution_count": 4,
   "id": "8f768016",
   "metadata": {},
   "outputs": [],
   "source": [
    "import torch\n",
    "import torch.nn as nn\n",
    "import torch.functional as fn\n",
    "import torchvision"
   ]
  },
  {
   "cell_type": "code",
   "execution_count": 5,
   "id": "8a6a4a27",
   "metadata": {},
   "outputs": [],
   "source": [
    "from torchvision.transforms import transforms"
   ]
  },
  {
   "cell_type": "code",
   "execution_count": 6,
   "id": "490cdbed",
   "metadata": {},
   "outputs": [
    {
     "name": "stdout",
     "output_type": "stream",
     "text": [
      "Files already downloaded and verified\n"
     ]
    }
   ],
   "source": [
    "train_data=torchvision.datasets.CIFAR10(root='./data',train=True,download=True,transform=transforms.ToTensor())"
   ]
  },
  {
   "cell_type": "code",
   "execution_count": 7,
   "id": "696cdad2",
   "metadata": {},
   "outputs": [],
   "source": [
    "classes=('plane','car','bird','cat','deer','dog','frog','horse','ship','truck')"
   ]
  },
  {
   "cell_type": "code",
   "execution_count": 36,
   "id": "89c13459",
   "metadata": {},
   "outputs": [],
   "source": [
    "trainloader=torch.utils.data.DataLoader(train_data,batch_size=10,shuffle=True)"
   ]
  },
  {
   "cell_type": "code",
   "execution_count": 37,
   "id": "92e10dd1",
   "metadata": {},
   "outputs": [],
   "source": [
    "dataiter=iter(trainloader)\n",
    "images,label=dataiter.next()"
   ]
  },
  {
   "cell_type": "code",
   "execution_count": 38,
   "id": "a014f61a",
   "metadata": {},
   "outputs": [
    {
     "data": {
      "text/plain": [
       "torch.Size([10, 3, 32, 32])"
      ]
     },
     "execution_count": 38,
     "metadata": {},
     "output_type": "execute_result"
    }
   ],
   "source": [
    "images.shape"
   ]
  },
  {
   "cell_type": "code",
   "execution_count": 39,
   "id": "8a8b1fc9",
   "metadata": {},
   "outputs": [
    {
     "data": {
      "text/plain": [
       "torch.Size([3, 32, 32])"
      ]
     },
     "execution_count": 39,
     "metadata": {},
     "output_type": "execute_result"
    }
   ],
   "source": [
    "images[0].shape"
   ]
  },
  {
   "cell_type": "code",
   "execution_count": 40,
   "id": "ec7f31f5",
   "metadata": {},
   "outputs": [
    {
     "data": {
      "text/plain": [
       "3"
      ]
     },
     "execution_count": 40,
     "metadata": {},
     "output_type": "execute_result"
    }
   ],
   "source": [
    "label[0].item()"
   ]
  },
  {
   "cell_type": "code",
   "execution_count": 41,
   "id": "d5cce9f7",
   "metadata": {},
   "outputs": [
    {
     "name": "stdout",
     "output_type": "stream",
     "text": [
      "<class 'torch.Tensor'>\n",
      "<class 'numpy.ndarray'>\n"
     ]
    }
   ],
   "source": [
    "img=images[0]\n",
    "print(type(img))\n",
    "np_img=img.numpy()\n",
    "print(type(np_img))"
   ]
  },
  {
   "cell_type": "code",
   "execution_count": 42,
   "id": "8d33b20a",
   "metadata": {},
   "outputs": [
    {
     "name": "stdout",
     "output_type": "stream",
     "text": [
      "(32, 32, 3)\n"
     ]
    }
   ],
   "source": [
    "np_img=np.transpose(np_img,(1,2,0))\n",
    "print(np_img.shape)"
   ]
  },
  {
   "cell_type": "code",
   "execution_count": 43,
   "id": "674415ec",
   "metadata": {},
   "outputs": [
    {
     "data": {
      "image/png": "[encoded data removed]",
      "text/plain": [
       "<Figure size 72x72 with 1 Axes>"
      ]
     },
     "metadata": {
      "needs_background": "light"
     },
     "output_type": "display_data"
    }
   ],
   "source": [
    "plt.figure(figsize=(1,1))\n",
    "plt.imshow(np_img)\n",
    "plt.show()"
   ]
  },
  {
   "cell_type": "code",
   "execution_count": 44,
   "id": "bb932d9d",
   "metadata": {},
   "outputs": [],
   "source": [
    "def imshow(img):\n",
    "    np_img=img.numpy()\n",
    "    plt.figure(figsize=(2,2))\n",
    "    plt.imshow(np.transpose(np_img,(1,2,0)))\n",
    "    plt.show()"
   ]
  },
  {
   "cell_type": "code",
   "execution_count": 45,
   "id": "de40dc10",
   "metadata": {},
   "outputs": [
    {
     "data": {
      "image/png": "[encoded data removed]",
      "text/plain": [
       "<Figure size 144x144 with 1 Axes>"
      ]
     },
     "metadata": {
      "needs_background": "light"
     },
     "output_type": "display_data"
    }
   ],
   "source": [
    "imshow(images[6])"
   ]
  },
  {
   "cell_type": "code",
   "execution_count": 46,
   "id": "27703e22",
   "metadata": {},
   "outputs": [
    {
     "data": {
      "text/plain": [
       "'dog'"
      ]
     },
     "execution_count": 46,
     "metadata": {},
     "output_type": "execute_result"
    }
   ],
   "source": [
    "classes[label[6].item()]"
   ]
  },
  {
   "cell_type": "markdown",
   "id": "db577586",
   "metadata": {},
   "source": [
    "## Single Convolutional layer"
   ]
  },
  {
   "cell_type": "code",
   "execution_count": 63,
   "id": "dbf77e34",
   "metadata": {},
   "outputs": [],
   "source": [
    "class ConvLayer(nn.Module):\n",
    "    def __init__(self):\n",
    "        super(ConvLayer,self).__init__()\n",
    "        self.conv1=nn.Conv2d(3,16,3,padding=(1,1),stride=(2,2))  \n",
    "        #3: num_channels in each image,16 : num of output channels,3:kernel_size padding=(1,1),stride=2\n",
    "        #padding ensures that the output remain same in size as 32x32 in our case\n",
    "        #stride : move kth step at a time in both x and y direction can produces output in (original/k)size\n",
    "    def forward(self,x):\n",
    "        x=self.conv1(x)\n",
    "        return x\n",
    "        "
   ]
  },
  {
   "cell_type": "code",
   "execution_count": 64,
   "id": "67605e4a",
   "metadata": {},
   "outputs": [],
   "source": [
    "net=ConvLayer()"
   ]
  },
  {
   "cell_type": "code",
   "execution_count": 65,
   "id": "84d6fbff",
   "metadata": {},
   "outputs": [],
   "source": [
    "out=net(images)"
   ]
  },
  {
   "cell_type": "code",
   "execution_count": 66,
   "id": "b316c30e",
   "metadata": {},
   "outputs": [
    {
     "data": {
      "text/plain": [
       "torch.Size([10, 16, 16, 16])"
      ]
     },
     "execution_count": 66,
     "metadata": {},
     "output_type": "execute_result"
    }
   ],
   "source": [
    "out.shape"
   ]
  },
  {
   "cell_type": "code",
   "execution_count": 67,
   "id": "411402de",
   "metadata": {},
   "outputs": [
    {
     "name": "stdout",
     "output_type": "stream",
     "text": [
      "torch.Size([16, 3, 3, 3])\n",
      "torch.Size([16])\n"
     ]
    }
   ],
   "source": [
    "for param in net.parameters():\n",
    "    print(param.shape)"
   ]
  },
  {
   "cell_type": "code",
   "execution_count": 68,
   "id": "8d254db3",
   "metadata": {},
   "outputs": [
    {
     "name": "stdout",
     "output_type": "stream",
     "text": [
      "(16, 16)\n"
     ]
    }
   ],
   "source": [
    "#0th batch, 0th channel, all 30x30 img conv file\n",
    "out1=out[0,0,:,:].detach().numpy()\n",
    "print(out1.shape)"
   ]
  },
  {
   "cell_type": "code",
   "execution_count": 69,
   "id": "d4046311",
   "metadata": {},
   "outputs": [
    {
     "data": {
      "text/plain": [
       "<matplotlib.image.AxesImage at 0x1784a115e0>"
      ]
     },
     "execution_count": 69,
     "metadata": {},
     "output_type": "execute_result"
    },
    {
     "data": {
      "image/png": "[encoded data removed]",
      "text/plain": [
       "<Figure size 432x288 with 1 Axes>"
      ]
     },
     "metadata": {
      "needs_background": "light"
     },
     "output_type": "display_data"
    }
   ],
   "source": [
    "plt.imshow(out1)"
   ]
  },
  {
   "cell_type": "markdown",
   "id": "13326868",
   "metadata": {},
   "source": [
    "### ConvV2"
   ]
  },
  {
   "cell_type": "code",
   "execution_count": 70,
   "id": "47238106",
   "metadata": {},
   "outputs": [],
   "source": [
    "class ConvLayerV2(nn.Module):\n",
    "    def __init__(self):\n",
    "        super(ConvLayerV2,self).__init__()\n",
    "        self.model=nn.Sequential(nn.Conv2d(3,8,3) #(N,3,32,32) -> (N,8,30,30)\n",
    "                                 ,nn.Conv2d(8,16,3)) #(N,8,30,30)->(N,16,28,28)\n",
    "        \n",
    "    def forward(self,x):\n",
    "        x=self.model(x)\n",
    "        return x\n",
    "        "
   ]
  },
  {
   "cell_type": "code",
   "execution_count": 72,
   "id": "17b72152",
   "metadata": {},
   "outputs": [],
   "source": [
    "netV2=ConvLayerV2()"
   ]
  },
  {
   "cell_type": "code",
   "execution_count": 73,
   "id": "4fc61423",
   "metadata": {},
   "outputs": [],
   "source": [
    "out=netV2(images)"
   ]
  },
  {
   "cell_type": "code",
   "execution_count": 74,
   "id": "96d3aac0",
   "metadata": {},
   "outputs": [
    {
     "data": {
      "text/plain": [
       "torch.Size([10, 16, 28, 28])"
      ]
     },
     "execution_count": 74,
     "metadata": {},
     "output_type": "execute_result"
    }
   ],
   "source": [
    "out.shape"
   ]
  },
  {
   "cell_type": "code",
   "execution_count": 76,
   "id": "fe52eb23",
   "metadata": {},
   "outputs": [
    {
     "data": {
      "image/png": "[encoded data removed]",
      "text/plain": [
       "<Figure size 432x288 with 1 Axes>"
      ]
     },
     "metadata": {
      "needs_background": "light"
     },
     "output_type": "display_data"
    }
   ],
   "source": [
    "plt.imshow(out[0,0,:,:].detach().numpy())\n",
    "plt.show()"
   ]
  },
  {
   "cell_type": "markdown",
   "id": "02f5f4be",
   "metadata": {},
   "source": [
    "### ConvV3"
   ]
  },
  {
   "cell_type": "code",
   "execution_count": 82,
   "id": "11a8362f",
   "metadata": {},
   "outputs": [],
   "source": [
    "class ConvLayerV3(nn.Module):\n",
    "    def __init__(self):\n",
    "        super(ConvLayerV3,self).__init__()\n",
    "        \n",
    "        self.model=nn.Sequential(nn.Conv2d(3,6,5), #(N,3,32,32) -> (N,6,28,28) (32-5)/S+1 -> 28\n",
    "                            nn.AvgPool2d(2,stride=2), #kernel size=2 (N,6,28,28) -> (N,6,14,14)\n",
    "                            nn.Conv2d(6,16,5), #(N,6,14,14)->(N,16,10,10)\n",
    "                            nn.AvgPool2d(2,stride=2) #(N,16,10,10) -> (N,16,5,5)\n",
    "        )\n",
    "    def forward(self,x):\n",
    "        x=self.model(x)\n",
    "        return x"
   ]
  },
  {
   "cell_type": "code",
   "execution_count": 83,
   "id": "235fd703",
   "metadata": {},
   "outputs": [],
   "source": [
    "net=ConvLayerV3()"
   ]
  },
  {
   "cell_type": "code",
   "execution_count": 84,
   "id": "18bb5f34",
   "metadata": {},
   "outputs": [],
   "source": [
    "out=net(images)"
   ]
  },
  {
   "cell_type": "code",
   "execution_count": 85,
   "id": "09517bbb",
   "metadata": {},
   "outputs": [
    {
     "data": {
      "text/plain": [
       "torch.Size([10, 16, 5, 5])"
      ]
     },
     "execution_count": 85,
     "metadata": {},
     "output_type": "execute_result"
    }
   ],
   "source": [
    "out.shape"
   ]
  },
  {
   "cell_type": "code",
   "execution_count": 87,
   "id": "1c52d769",
   "metadata": {},
   "outputs": [
    {
     "data": {
      "image/png": "[encoded data removed]",
      "text/plain": [
       "<Figure size 432x288 with 1 Axes>"
      ]
     },
     "metadata": {
      "needs_background": "light"
     },
     "output_type": "display_data"
    }
   ],
   "source": [
    "plt.imshow(out[0,0,:,:].detach().numpy())\n",
    "plt.show()"
   ]
  },
  {
   "attachments": {
    "LeNet.PNG": {
     "image/png": "[encoded data removed]"
    }
   },
   "cell_type": "markdown",
   "id": "e370258b",
   "metadata": {},
   "source": [
    "## LeNet implimentation (1998)\n",
    "![LeNet.PNG](attachment:LeNet.PNG)\n",
    "* One of the Deep learning based architecture for image classification task\n"
   ]
  },
  {
   "cell_type": "code",
   "execution_count": 134,
   "id": "b38c88df",
   "metadata": {},
   "outputs": [],
   "source": [
    "class LeNet(nn.Module):\n",
    "    def __init__(self):\n",
    "        super(LeNet,self).__init__()\n",
    "        self.conv_layer=nn.Sequential(nn.Conv2d(3,6,5), #(N,3,32,32) -> (N,6,28,28)\n",
    "                                 nn.Tanh(),\n",
    "                                 nn.AvgPool2d(2,stride=2), # (N,6,28,28) -> (N,6,14,14)\n",
    "                                 nn.Conv2d(6,16,5), #(N,6,14,14) -> (N,16,10,10)\n",
    "                                 nn.Tanh(),\n",
    "                                 nn.AvgPool2d(2,stride=2) #(N,16,10,10) -> (N,16,5,5)\n",
    "                                                                                                   \n",
    "        )\n",
    "        self.fc_layer=nn.Sequential(nn.Linear(400,120), # (N,400 (16*5*5))->(N,120)\n",
    "                                    nn.Tanh(),\n",
    "                                    nn.Linear(120,84), #(N,120)-> (N, 84)\n",
    "                                    nn.Tanh(),\n",
    "                                    nn.Linear(84,10) #(N,84) -> (N,10)\n",
    "                                    \n",
    "        )\n",
    "        \n",
    "    def forward(self,x):\n",
    "        #print(x.shape)\n",
    "        x=self.conv_layer(x)\n",
    "        #print(x.shape)\n",
    "        x=x.view(x.size(0),-1)\n",
    "        #print(x.shape)\n",
    "        x=self.fc_layer(x)\n",
    "        #print(x.shape)\n",
    "        return x\n",
    "        \n",
    "        "
   ]
  },
  {
   "cell_type": "code",
   "execution_count": 135,
   "id": "61da8555",
   "metadata": {},
   "outputs": [],
   "source": [
    "LeNet_net=LeNet()"
   ]
  },
  {
   "cell_type": "code",
   "execution_count": 136,
   "id": "99b652f8",
   "metadata": {},
   "outputs": [],
   "source": [
    "out=LeNet_net(images)"
   ]
  },
  {
   "cell_type": "code",
   "execution_count": 137,
   "id": "d0355af7",
   "metadata": {},
   "outputs": [
    {
     "name": "stdout",
     "output_type": "stream",
     "text": [
      "tensor([[-0.0782,  0.0540, -0.0345, -0.0566, -0.1331, -0.0938,  0.0547, -0.0199,\n",
      "         -0.0173,  0.1363],\n",
      "        [-0.0366,  0.0382, -0.0306, -0.0882, -0.1411, -0.1001,  0.0309, -0.0139,\n",
      "         -0.0284,  0.1585],\n",
      "        [-0.0583,  0.0443, -0.0263, -0.0579, -0.1422, -0.0730,  0.0402, -0.0287,\n",
      "         -0.0284,  0.1695],\n",
      "        [-0.0679,  0.0299, -0.0185, -0.0747, -0.1361, -0.0885,  0.0356, -0.0123,\n",
      "         -0.0387,  0.1594],\n",
      "        [-0.0518,  0.0332, -0.0295, -0.0644, -0.1412, -0.0869,  0.0396, -0.0284,\n",
      "         -0.0329,  0.1683],\n",
      "        [-0.0571,  0.0384, -0.0221, -0.0719, -0.1428, -0.0893,  0.0465, -0.0195,\n",
      "         -0.0231,  0.1555],\n",
      "        [-0.0669,  0.0134, -0.0126, -0.0740, -0.1362, -0.0759,  0.0164, -0.0254,\n",
      "         -0.0493,  0.2000],\n",
      "        [-0.0795,  0.0392, -0.0316, -0.0597, -0.1402, -0.0844,  0.0295, -0.0202,\n",
      "         -0.0300,  0.1630],\n",
      "        [-0.0614,  0.0438, -0.0133, -0.0673, -0.1185, -0.0857,  0.0449, -0.0152,\n",
      "         -0.0443,  0.1586],\n",
      "        [-0.0649,  0.0380, -0.0198, -0.0680, -0.1364, -0.0699,  0.0399, -0.0223,\n",
      "         -0.0369,  0.1580]], grad_fn=<AddmmBackward0>)\n"
     ]
    }
   ],
   "source": [
    "print(out)"
   ]
  },
  {
   "cell_type": "code",
   "execution_count": null,
   "id": "f03eaefa",
   "metadata": {},
   "outputs": [],
   "source": []
  },
  {
   "cell_type": "code",
   "execution_count": 94,
   "id": "941503cf",
   "metadata": {},
   "outputs": [],
   "source": [
    "max_values, pred_class=torch.max(out.data,1)"
   ]
  },
  {
   "cell_type": "code",
   "execution_count": 95,
   "id": "a6ff555b",
   "metadata": {},
   "outputs": [
    {
     "name": "stdout",
     "output_type": "stream",
     "text": [
      "tensor([6, 6, 6, 6, 6, 6, 6, 6, 6, 6])\n"
     ]
    }
   ],
   "source": [
    "print(pred_class)"
   ]
  },
  {
   "cell_type": "code",
   "execution_count": 126,
   "id": "7a0844dc",
   "metadata": {},
   "outputs": [
    {
     "data": {
      "text/plain": [
       "10"
      ]
     },
     "execution_count": 126,
     "metadata": {},
     "output_type": "execute_result"
    }
   ],
   "source": [
    "pred_class.size(0)"
   ]
  },
  {
   "cell_type": "code",
   "execution_count": 115,
   "id": "6af0e91c",
   "metadata": {},
   "outputs": [
    {
     "data": {
      "text/plain": [
       "tensor([0.1256, 0.1087, 0.1106, 0.1320, 0.1090, 0.1187, 0.1179, 0.1254, 0.1277,\n",
       "        0.1244])"
      ]
     },
     "execution_count": 115,
     "metadata": {},
     "output_type": "execute_result"
    }
   ],
   "source": [
    "max_values"
   ]
  },
  {
   "cell_type": "code",
   "execution_count": 96,
   "id": "bf14fe33",
   "metadata": {},
   "outputs": [
    {
     "name": "stdout",
     "output_type": "stream",
     "text": [
      "Files already downloaded and verified\n",
      "Files already downloaded and verified\n"
     ]
    }
   ],
   "source": [
    "batch_size=128\n",
    "trainset=torchvision.datasets.CIFAR10(root=\"./data\",train=True,download=True,transform=transforms.ToTensor())\n",
    "trainloader=torch.utils.data.DataLoader(trainset,batch_size=batch_size,shuffle=True)\n",
    "testset=torchvision.datasets.CIFAR10(root=\"./data\",train=False,download=True,transform=transforms.ToTensor())\n",
    "testloader=torch.utils.data.DataLoader(testset,batch_size=batch_size,shuffle=True)"
   ]
  },
  {
   "cell_type": "code",
   "execution_count": 106,
   "id": "7f99ef53",
   "metadata": {},
   "outputs": [],
   "source": [
    "classes=trainloader.dataset.classes"
   ]
  },
  {
   "cell_type": "code",
   "execution_count": 112,
   "id": "282b3553",
   "metadata": {},
   "outputs": [
    {
     "data": {
      "text/plain": [
       "(50000, 32, 32, 3)"
      ]
     },
     "execution_count": 112,
     "metadata": {},
     "output_type": "execute_result"
    }
   ],
   "source": [
    "trainloader.dataset.data.shape"
   ]
  },
  {
   "cell_type": "code",
   "execution_count": 113,
   "id": "459dd795",
   "metadata": {},
   "outputs": [
    {
     "data": {
      "text/plain": [
       "(10000, 32, 32, 3)"
      ]
     },
     "execution_count": 113,
     "metadata": {},
     "output_type": "execute_result"
    }
   ],
   "source": [
    "testloader.dataset.data.shape"
   ]
  },
  {
   "cell_type": "code",
   "execution_count": 156,
   "id": "8e3dc050",
   "metadata": {},
   "outputs": [
    {
     "name": "stdout",
     "output_type": "stream",
     "text": [
      "391\n"
     ]
    }
   ],
   "source": [
    "count=0\n",
    "for data in trainloader:\n",
    "    count+=1\n",
    "print(count)    "
   ]
  },
  {
   "cell_type": "code",
   "execution_count": 161,
   "id": "4233ca47",
   "metadata": {},
   "outputs": [],
   "source": [
    "device=torch.device(\"cuda:0\" if torch.cuda.is_available() else \"cpu\")"
   ]
  },
  {
   "cell_type": "code",
   "execution_count": 162,
   "id": "7c2c8fea",
   "metadata": {},
   "outputs": [
    {
     "name": "stdout",
     "output_type": "stream",
     "text": [
      "cpu\n"
     ]
    }
   ],
   "source": [
    "print(device)"
   ]
  },
  {
   "cell_type": "code",
   "execution_count": 163,
   "id": "5ed94957",
   "metadata": {},
   "outputs": [],
   "source": [
    "def evaluation(dataloader):\n",
    "    total,correct=0,0\n",
    "    for data in dataloader:\n",
    "        inputs,labels=data\n",
    "        inputs,labels=inputs.to(device),labels.to(device)\n",
    "        outputs=LeNet_net(inputs)\n",
    "        _,pred=torch.max(outputs.data,1)\n",
    "        total+=labels.size(0)\n",
    "        correct+=(pred==labels).sum().item()\n",
    "        return 100*correct/total"
   ]
  },
  {
   "cell_type": "code",
   "execution_count": 129,
   "id": "9553d5ea",
   "metadata": {},
   "outputs": [],
   "source": [
    "import torch.optim as optim"
   ]
  },
  {
   "cell_type": "code",
   "execution_count": 130,
   "id": "0a706537",
   "metadata": {},
   "outputs": [],
   "source": [
    "loss_fn=nn.CrossEntropyLoss()\n",
    "opt=optim.Adam(LeNet_net.parameters())"
   ]
  },
  {
   "cell_type": "code",
   "execution_count": 164,
   "id": "dd7e5cd1",
   "metadata": {},
   "outputs": [],
   "source": [
    "LeNet=LeNet().to(device)"
   ]
  },
  {
   "cell_type": "code",
   "execution_count": 159,
   "id": "db8b580c",
   "metadata": {},
   "outputs": [
    {
     "name": "stdout",
     "output_type": "stream",
     "text": [
      "Epoch:0/16\n",
      "Epoch:1/16\n",
      "Epoch:2/16\n",
      "Epoch:3/16\n",
      "Epoch:4/16\n",
      "Epoch:5/16\n",
      "Epoch:6/16\n",
      "Epoch:7/16\n",
      "Epoch:8/16\n",
      "Epoch:9/16\n",
      "Epoch:10/16\n",
      "Epoch:11/16\n",
      "Epoch:12/16\n",
      "Epoch:13/16\n",
      "Epoch:14/16\n",
      "Epoch:15/16\n"
     ]
    },
    {
     "data": {
      "image/png": "[encoded data removed]",
      "text/plain": [
       "<Figure size 432x288 with 1 Axes>"
      ]
     },
     "metadata": {
      "needs_background": "light"
     },
     "output_type": "display_data"
    },
    {
     "name": "stdout",
     "output_type": "stream",
     "text": [
      "Wall time: 6min 35s\n"
     ]
    }
   ],
   "source": [
    "%%time\n",
    "loss_arr=[]\n",
    "loss_epoch_err=[]\n",
    "max_epoch=16\n",
    "\n",
    "for epoch in range(max_epoch):\n",
    "    for i, data in enumerate(trainloader,0):\n",
    "        inputs,labels=data\\\n",
    "        inputs,labels=inputs.to(device),labels.to(device)\n",
    "        \n",
    "        opt.zero_grad()\n",
    "        \n",
    "        outputs=LeNet_net(inputs)\n",
    "        loss=loss_fn(outputs,labels)\n",
    "        loss.backward()\n",
    "        opt.step()\n",
    "        \n",
    "        loss_arr.append(loss.item())\n",
    "    loss_epoch_err.append(loss.item())\n",
    "    print(\"Epoch:%d/%d\" %(epoch,max_epoch))\n",
    "plt.plot(loss_epoch_err)\n",
    "plt.show()"
   ]
  },
  {
   "cell_type": "code",
   "execution_count": 160,
   "id": "2f701a36",
   "metadata": {},
   "outputs": [
    {
     "name": "stdout",
     "output_type": "stream",
     "text": [
      "Test Accuracy: 4.69,Train Accuracy: 8.59\n"
     ]
    }
   ],
   "source": [
    "print(\"Test Accuracy: %0.2f,Train Accuracy: %0.2f\" %(evaluation(testloader),evaluation(trainloader)))"
   ]
  },
  {
   "cell_type": "code",
   "execution_count": null,
   "id": "1e43f344",
   "metadata": {},
   "outputs": [],
   "source": []
  },
  {
   "cell_type": "markdown",
   "id": "abd12f6d",
   "metadata": {},
   "source": [
    "## Basic Visualization"
   ]
  },
  {
   "cell_type": "code",
   "execution_count": 167,
   "id": "8d2dec8d",
   "metadata": {},
   "outputs": [
    {
     "data": {
      "image/png": "[encoded data removed]",
      "text/plain": [
       "<Figure size 144x144 with 1 Axes>"
      ]
     },
     "metadata": {
      "needs_background": "light"
     },
     "output_type": "display_data"
    }
   ],
   "source": [
    "imshow(torchvision.utils.make_grid(images))"
   ]
  },
  {
   "cell_type": "code",
   "execution_count": 168,
   "id": "b693b490",
   "metadata": {},
   "outputs": [],
   "source": [
    "LeNet_net=LeNet.to(\"cpu\")"
   ]
  },
  {
   "cell_type": "code",
   "execution_count": 169,
   "id": "3b8b1e13",
   "metadata": {},
   "outputs": [],
   "source": [
    "out=LeNet_net(images)"
   ]
  },
  {
   "cell_type": "code",
   "execution_count": 170,
   "id": "617c6195",
   "metadata": {},
   "outputs": [
    {
     "name": "stdout",
     "output_type": "stream",
     "text": [
      "torch.Size([10, 10])\n"
     ]
    }
   ],
   "source": [
    "print(out.shape)"
   ]
  },
  {
   "cell_type": "code",
   "execution_count": 171,
   "id": "55bd75ed",
   "metadata": {},
   "outputs": [],
   "source": [
    "out=LeNet_net.conv_layer[0](images)"
   ]
  },
  {
   "cell_type": "code",
   "execution_count": 172,
   "id": "b98f05e6",
   "metadata": {},
   "outputs": [
    {
     "name": "stdout",
     "output_type": "stream",
     "text": [
      "torch.Size([10, 6, 28, 28])\n"
     ]
    }
   ],
   "source": [
    "print(out.shape)"
   ]
  },
  {
   "cell_type": "code",
   "execution_count": 183,
   "id": "cfd2a6e7",
   "metadata": {},
   "outputs": [],
   "source": [
    "out=LeNet_net.conv_layer[0](images)"
   ]
  },
  {
   "cell_type": "code",
   "execution_count": 184,
   "id": "e3306429",
   "metadata": {},
   "outputs": [
    {
     "data": {
      "text/plain": [
       "torch.Size([10, 6, 28, 28])"
      ]
     },
     "execution_count": 184,
     "metadata": {},
     "output_type": "execute_result"
    }
   ],
   "source": [
    "out.shape"
   ]
  },
  {
   "cell_type": "code",
   "execution_count": 196,
   "id": "4e374715",
   "metadata": {},
   "outputs": [],
   "source": [
    "out2=LeNet_net.conv_layer[0](images)"
   ]
  },
  {
   "cell_type": "code",
   "execution_count": 197,
   "id": "f0435711",
   "metadata": {},
   "outputs": [
    {
     "data": {
      "text/plain": [
       "torch.Size([10, 6, 28, 28])"
      ]
     },
     "execution_count": 197,
     "metadata": {},
     "output_type": "execute_result"
    }
   ],
   "source": [
    "out2.shape"
   ]
  },
  {
   "cell_type": "code",
   "execution_count": 189,
   "id": "c1eece08",
   "metadata": {},
   "outputs": [],
   "source": [
    "image_id=4"
   ]
  },
  {
   "cell_type": "code",
   "execution_count": 190,
   "id": "747152c1",
   "metadata": {},
   "outputs": [
    {
     "data": {
      "image/png": "[encoded data removed]",
      "text/plain": [
       "<Figure size 432x432 with 6 Axes>"
      ]
     },
     "metadata": {
      "needs_background": "light"
     },
     "output_type": "display_data"
    }
   ],
   "source": [
    "plt.figure(figsize=(6,6))\n",
    "plt.subplot(321)\n",
    "for i in range(6):\n",
    "    ax1=plt.subplot(3,2,i+1)\n",
    "    plt.imshow(out[image_id,i,:,:].detach().numpy(),cmap=\"binary\")\n",
    "plt.show()"
   ]
  },
  {
   "cell_type": "code",
   "execution_count": null,
   "id": "94d4bf86",
   "metadata": {},
   "outputs": [],
   "source": []
  },
  {
   "cell_type": "code",
   "execution_count": null,
   "id": "7aa4bca0",
   "metadata": {},
   "outputs": [],
   "source": []
  }
 ],
 "metadata": {
  "kernelspec": {
   "display_name": "Python 3",
   "language": "python",
   "name": "python3"
  },
  "language_info": {
   "codemirror_mode": {
    "name": "ipython",
    "version": 3
   },
   "file_extension": ".py",
   "mimetype": "text/x-python",
   "name": "python",
   "nbconvert_exporter": "python",
   "pygments_lexer": "ipython3",
   "version": "3.8.8"
  }
 },
 "nbformat": 4,
 "nbformat_minor": 5
}
